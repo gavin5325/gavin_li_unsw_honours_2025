{
 "cells": [
  {
   "cell_type": "code",
   "execution_count": 1,
   "id": "685f56a9-190f-4518-918d-55b6dbeaf671",
   "metadata": {},
   "outputs": [
    {
     "name": "stdout",
     "output_type": "stream",
     "text": [
      "Total memory: 405.41 GB\n",
      "Available memory: 336.06 GB\n",
      "Used memory: 65.61 GB\n",
      "Memory usage: 17.1%\n"
     ]
    },
    {
     "data": {
      "text/plain": [
       "0"
      ]
     },
     "execution_count": 1,
     "metadata": {},
     "output_type": "execute_result"
    }
   ],
   "source": [
    "import scvelo as scv\n",
    "import scanpy as sc\n",
    "import numpy as np\n",
    "import pandas as pd\n",
    "import anndata as ad\n",
    "import matplotlib.pyplot as plt\n",
    "import cellrank as cr\n",
    "from matplotlib.backends.backend_pdf import PdfPages\n",
    "import seaborn as sns\n",
    "\n",
    "import psutil\n",
    "\n",
    "mem = psutil.virtual_memory()\n",
    "print(f\"Total memory: {mem.total / 1e9:.2f} GB\")\n",
    "print(f\"Available memory: {mem.available / 1e9:.2f} GB\")\n",
    "print(f\"Used memory: {mem.used / 1e9:.2f} GB\")\n",
    "print(f\"Memory usage: {mem.percent}%\")\n",
    "# print(globals().keys())\n",
    "\n",
    "import gc\n",
    "gc.collect()\n"
   ]
  },
  {
   "cell_type": "code",
   "execution_count": 18,
   "id": "7b41b709-a415-4a97-b2e2-59f3e32a6de2",
   "metadata": {},
   "outputs": [],
   "source": [
    "# org_merge_changed_D60 = sc.read(\"/srv/scratch/voineagu/PROJECTS/GavinLi/Combined/Results/251008_D60_D100_merge/org_merge_changed_D60.h5ad\")\n",
    "# org_merge_changed_D100 = sc.read(\"/srv/scratch/voineagu/PROJECTS/GavinLi/Combined/Results/251008_D60_D100_merge/org_merge_changed_D100.h5ad\")\n",
    "# org_merge_D100_KO = sc.read(\"/srv/scratch/voineagu/PROJECTS/GavinLi/Combined/Results/251008_D60_D100_merge/org_merge_D100_KO.h5ad\")\n",
    "\n",
    "# org_merge_by_D60 = sc.read(\"/srv/scratch/voineagu/PROJECTS/GavinLi/Combined/Results/251008_D60_D100_merge/org_merge_by_D60.h5ad\")\n",
    "org_merge_changed = sc.read(\"/srv/scratch/voineagu/PROJECTS/GavinLi/Combined/Results/250726_D60_hg19/org_merge_changed.h5ad\")"
   ]
  },
  {
   "cell_type": "code",
   "execution_count": 19,
   "id": "83e9d815-57e6-447d-b528-2945449cff1e",
   "metadata": {},
   "outputs": [
    {
     "name": "stdout",
     "output_type": "stream",
     "text": [
      "AnnData object with n_obs × n_vars = 94531 × 1922\n",
      "    obs: 'nCount_ambiguous', 'nFeature_ambiguous', 'nCount_spliced', 'nFeature_spliced', 'nCount_unspliced', 'nFeature_unspliced', 'orig.ident', 'nCount_RNA', 'nFeature_RNA', 'percent.mt', 'percent.rps', 'percent.rpl', 'RNA_snn_res.0.1', 'seurat_clusters', 'pANN_0.25_0.3_354', 'doublet_finder', 'pANN_0.25_0.03_363', 'pANN_0.25_0.005_663', 'pANN_0.25_0.17_698', 'pANN_0.25_0.005_717', 'pANN_0.25_0.01_706', 'pANN_0.25_0.005_755', 'pANN_0.25_0.001_663', 'pANN_0.25_0.26_795', 'Sample_ID', 'unintegrated_clusters', 'clusters_CSS_allEmbeddingDims_Point1', 'clusters_CSS_SigPs_Point1', 'clusters_Harmony_Point1', 'clusters_CSS_allEmbeddingDims_Point2', 'clusters_CSS_SigPs_Point2', 'clusters_Harmony_Point2', 'clusters_CSS_allEmbeddingDims_Point5', 'clusters_CSS_SigPs_Point5', 'clusters_Harmony_Point5', 'clusters_CSS_SigPs_0.6', 'Genotype', 'Day', 'HNOCA_annot_level_1_pruned', 'HNOCA_annot_level_2_pruned', 'css_cluster', 'RNA_snn_res.0.8', 'initial_size_unspliced', 'initial_size_spliced', 'initial_size', 'n_counts', 'velocity_self_transition', 'root_cells', 'end_points', 'velocity_pseudotime', 'latent_time', 'velocity_length', 'velocity_confidence', 'velocity_confidence_transition'\n",
      "    var: 'gene_names', 'gene_count_corr', 'means', 'dispersions', 'dispersions_norm', 'highly_variable', 'fit_alpha', 'fit_beta', 'fit_gamma', 'fit_t_', 'fit_scaling', 'fit_std_u', 'fit_std_s', 'fit_likelihood', 'fit_u0', 'fit_s0', 'fit_pval_steady', 'fit_steady_u', 'fit_steady_s', 'fit_variance', 'fit_alignment_scaling', 'fit_r2', 'velocity_genes'\n",
      "    uns: 'HNOCA_annot_level_2_pruned_colors', 'log1p', 'neighbors', 'recover_dynamics', 'velocity_graph', 'velocity_graph_neg', 'velocity_params'\n",
      "    obsm: 'X_css', 'X_pca', 'X_umap.css.sigPCs', 'X_umap.unintegrated', 'velocity_umap.css.sigPCs'\n",
      "    varm: 'loss'\n",
      "    layers: 'Ms', 'Mu', 'ambiguous', 'fit_t', 'fit_tau', 'fit_tau_', 'spliced', 'unspliced', 'velocity', 'velocity_u'\n",
      "    obsp: 'connectivities', 'distances'\n"
     ]
    }
   ],
   "source": [
    "print(org_merge_changed)\n",
    "# scv.pl.scatter(org_merge_by_D60, basis=\"X_umap.css.sigPCs\", color=\"HNOCA_annot_level_2_pruned\")"
   ]
  },
  {
   "cell_type": "code",
   "execution_count": 4,
   "id": "ca913e8c-50a8-488e-b820-606e54590950",
   "metadata": {},
   "outputs": [
    {
     "name": "stdout",
     "output_type": "stream",
     "text": [
      "Filtered out 3317 genes that are detected in less than 2 cells (spliced).\n",
      "Filtered out 2878 genes that are detected in less than 2 cells (unspliced).\n",
      "Normalized count data: X, spliced, unspliced.\n",
      "Logarithmized X.\n"
     ]
    },
    {
     "name": "stderr",
     "output_type": "stream",
     "text": [
      "/home/z5358666/.local/lib/python3.10/site-packages/scvelo/preprocessing/utils.py:705: DeprecationWarning: `log1p` is deprecated since scVelo v0.3.0 and will be removed in a future version. Please use `log1p` from `scanpy.pp` instead.\n",
      "  log1p(adata)\n"
     ]
    },
    {
     "name": "stdout",
     "output_type": "stream",
     "text": [
      "Extracted 2528 highly variable genes.\n",
      "computing moments based on connectivities\n",
      "    finished (0:00:08) --> added \n",
      "    'Ms' and 'Mu', moments of un/spliced abundances (adata.layers)\n"
     ]
    }
   ],
   "source": [
    "scv.pp.filter_and_normalize(org_merge_by_D60, min_cells = 2, min_cells_u = 2)\n",
    "scv.pp.filter_genes_dispersion(org_merge_by_D60)\n",
    "sc.pp.neighbors(org_merge_by_D60, n_neighbors=20, use_rep='X_css')\n",
    "scv.pp.moments(org_merge_by_D60, n_pcs=None, n_neighbors=None)"
   ]
  },
  {
   "cell_type": "code",
   "execution_count": 5,
   "id": "9fa73cc3-ff24-49af-8f01-132e26a04a07",
   "metadata": {},
   "outputs": [
    {
     "name": "stdout",
     "output_type": "stream",
     "text": [
      "recovering dynamics (using 1/48 cores)\n",
      "WARNING: Unable to create progress bar. Consider installing `tqdm` as `pip install tqdm` and `ipywidgets` as `pip install ipywidgets`,\n",
      "or disable the progress bar using `show_progress_bar=False`.\n",
      "    finished (0:27:15) --> added \n",
      "    'fit_pars', fitted parameters for splicing dynamics (adata.var)\n"
     ]
    }
   ],
   "source": [
    "scv.tl.recover_dynamics(org_merge_by_D60)"
   ]
  },
  {
   "cell_type": "code",
   "execution_count": 6,
   "id": "8d276e93-c68a-47b0-aee1-b6b7c7aff984",
   "metadata": {},
   "outputs": [
    {
     "name": "stdout",
     "output_type": "stream",
     "text": [
      "computing velocities\n",
      "    finished (0:00:19) --> added \n",
      "    'velocity', velocity vectors for each individual cell (adata.layers)\n",
      "computing velocity graph (using 1/48 cores)\n",
      "    finished (0:00:47) --> added \n",
      "    'velocity_graph', sparse matrix with cosine correlations (adata.uns)\n"
     ]
    }
   ],
   "source": [
    "scv.tl.velocity(org_merge_by_D60, mode='dynamical', diff_kinetics=True)\n",
    "scv.tl.velocity_graph(org_merge_by_D60)"
   ]
  },
  {
   "cell_type": "code",
   "execution_count": 20,
   "id": "e0020440-c1ec-498d-9b45-9582e3a0320e",
   "metadata": {},
   "outputs": [
    {
     "name": "stdout",
     "output_type": "stream",
     "text": [
      "Number of cells per simplified cell type:\n",
      "HNOCA_annot_level_2_pruned_simplified\n",
      "Ventral Telencephalic Neuron    36967\n",
      "Non-telencephalic Neuron        29077\n",
      "Others                          10683\n",
      "Neuroepithelium                 10126\n",
      "Non-telencephalic NPC            3930\n",
      "Ventral Telencephalic NPC        3011\n",
      "Dorsal Telencephalic Neuron       452\n",
      "Dorsal Telencephalic IP           285\n",
      "Name: count, dtype: int64\n"
     ]
    }
   ],
   "source": [
    "import pandas as pd\n",
    "\n",
    "celltype_map = {\n",
    "    \"Neuroepithelium\": \"Neuroepithelium\",\n",
    "    \"Dorsal Telencephalic IP\": \"Dorsal Telencephalic IP\",\n",
    "    \"Dorsal Telencephalic Neuron\": \"Dorsal Telencephalic Neuron\",\n",
    "    \"Ventral Telencephalic NPC\": \"Ventral Telencephalic NPC\",\n",
    "    \"Ventral Telencephalic Neuron\": \"Ventral Telencephalic Neuron\",\n",
    "    \"Non-telencephalic NPC\": \"Non-telencephalic NPC\",\n",
    "    \"Non-telencephalic Neuron\": \"Non-telencephalic Neuron\"\n",
    "}\n",
    "\n",
    "org_merge_changed.obs[\"HNOCA_annot_level_2_pruned_simplified\"] = (\n",
    "    org_merge_changed.obs[\"HNOCA_annot_level_2_pruned\"] \n",
    "    .map(celltype_map)                      \n",
    "    .fillna(\"Others\")                       \n",
    ")\n",
    "\n",
    "celltype_counts = org_merge_changed.obs[\"HNOCA_annot_level_2_pruned_simplified\"].value_counts()\n",
    "\n",
    "print(\"Number of cells per simplified cell type:\")\n",
    "print(celltype_counts)"
   ]
  },
  {
   "cell_type": "code",
   "execution_count": 8,
   "id": "95075170-ba20-42b7-8df8-4d1a6483cb4a",
   "metadata": {},
   "outputs": [
    {
     "name": "stdout",
     "output_type": "stream",
     "text": [
      "computing velocity embedding\n",
      "    finished (0:00:05) --> added\n",
      "    'velocity_umap.css.sigPCs', embedded velocity vectors (adata.obsm)\n"
     ]
    },
    {
     "name": "stderr",
     "output_type": "stream",
     "text": [
      "/home/z5358666/.local/lib/python3.10/site-packages/scvelo/plotting/utils.py:68: DeprecationWarning: is_categorical_dtype is deprecated and will be removed in a future version. Use isinstance(dtype, pd.CategoricalDtype) instead\n",
      "  return isinstance(c, str) and c in data.obs.keys() and cat(data.obs[c])\n",
      "/home/z5358666/.local/lib/python3.10/site-packages/scvelo/plotting/utils.py:68: DeprecationWarning: is_categorical_dtype is deprecated and will be removed in a future version. Use isinstance(dtype, pd.CategoricalDtype) instead\n",
      "  return isinstance(c, str) and c in data.obs.keys() and cat(data.obs[c])\n",
      "/home/z5358666/.local/lib/python3.10/site-packages/scvelo/plotting/utils.py:65: DeprecationWarning: is_categorical_dtype is deprecated and will be removed in a future version. Use isinstance(dtype, pd.CategoricalDtype) instead\n",
      "  return cat(data)  # if data is categorical/array\n",
      "/home/z5358666/.local/lib/python3.10/site-packages/scvelo/plotting/utils.py:68: DeprecationWarning: is_categorical_dtype is deprecated and will be removed in a future version. Use isinstance(dtype, pd.CategoricalDtype) instead\n",
      "  return isinstance(c, str) and c in data.obs.keys() and cat(data.obs[c])\n",
      "/home/z5358666/.local/lib/python3.10/site-packages/scvelo/plotting/utils.py:68: DeprecationWarning: is_categorical_dtype is deprecated and will be removed in a future version. Use isinstance(dtype, pd.CategoricalDtype) instead\n",
      "  return isinstance(c, str) and c in data.obs.keys() and cat(data.obs[c])\n",
      "/home/z5358666/.local/lib/python3.10/site-packages/scvelo/plotting/utils.py:68: DeprecationWarning: is_categorical_dtype is deprecated and will be removed in a future version. Use isinstance(dtype, pd.CategoricalDtype) instead\n",
      "  return isinstance(c, str) and c in data.obs.keys() and cat(data.obs[c])\n",
      "/home/z5358666/.local/lib/python3.10/site-packages/scvelo/plotting/utils.py:68: DeprecationWarning: is_categorical_dtype is deprecated and will be removed in a future version. Use isinstance(dtype, pd.CategoricalDtype) instead\n",
      "  return isinstance(c, str) and c in data.obs.keys() and cat(data.obs[c])\n",
      "/home/z5358666/.local/lib/python3.10/site-packages/scvelo/plotting/utils.py:68: DeprecationWarning: is_categorical_dtype is deprecated and will be removed in a future version. Use isinstance(dtype, pd.CategoricalDtype) instead\n",
      "  return isinstance(c, str) and c in data.obs.keys() and cat(data.obs[c])\n",
      "/home/z5358666/.local/lib/python3.10/site-packages/scvelo/plotting/utils.py:68: DeprecationWarning: is_categorical_dtype is deprecated and will be removed in a future version. Use isinstance(dtype, pd.CategoricalDtype) instead\n",
      "  return isinstance(c, str) and c in data.obs.keys() and cat(data.obs[c])\n"
     ]
    }
   ],
   "source": [
    "pdf_path = \"/srv/scratch/voineagu/PROJECTS/GavinLi/Combined/Results/251008_D60_D100_merge/org_merge_by_D60_velocity_diff_kinetics_genotype_celltype_simplified_stream.pdf\"\n",
    "\n",
    "r_palette = {\n",
    "    \"Neuroepithelium\": \"#f44336\",\n",
    "    \"Dorsal Telencephalic IP\": \"#8bc34a\",\n",
    "    \"Dorsal Telencephalic Neuron\": \"#009688\",\n",
    "    \"Ventral Telencephalic NPC\": \"#1565c0\",\n",
    "    \"Ventral Telencephalic Neuron\": \"#ffc107\",\n",
    "    \"Non-telencephalic NPC\": \"#ff9800\",\n",
    "    \"Non-telencephalic Neuron\": \"#448aff\",\n",
    "    \"Others\": \"#ad1457\"\n",
    "}\n",
    "\n",
    "with PdfPages(pdf_path) as pdf:\n",
    "\n",
    "    scv.pl.velocity_embedding_grid(\n",
    "        org_merge_by_D60,\n",
    "        basis='umap.css.sigPCs',\n",
    "        color='HNOCA_annot_level_2_pruned_simplified',\n",
    "        palette=r_palette,\n",
    "        size=50,\n",
    "        scale=0.3,               \n",
    "        alpha=0.5,\n",
    "        legend_loc='lower left',\n",
    "        linewidth=1.2,\n",
    "        legend_fontsize=5,\n",
    "        show=False\n",
    "    )\n",
    "\n",
    "    \n",
    "    fig = plt.gcf()\n",
    "    fig.set_size_inches(11, 9)  \n",
    "    pdf.savefig(fig)           \n",
    "    plt.close()"
   ]
  },
  {
   "cell_type": "code",
   "execution_count": 26,
   "id": "8bb8c393-92fe-437c-8de2-cc6717f6dfde",
   "metadata": {},
   "outputs": [
    {
     "name": "stdout",
     "output_type": "stream",
     "text": [
      "testing for differential kinetics\n",
      "    finished (0:30:34) --> added \n",
      "    'fit_diff_kinetics', clusters displaying differential kinetics (adata.var)\n",
      "    'fit_pvals_kinetics', p-values of differential kinetics (adata.var)\n"
     ]
    }
   ],
   "source": [
    "org_merge_changed.obs['condition_celltype'] = (\n",
    "    org_merge_changed.obs['Genotype'].astype(str) + '_' +\n",
    "    org_merge_changed.obs['HNOCA_annot_level_2_pruned'].astype(str)\n",
    ").astype('category')\n",
    "scv.tl.differential_kinetic_test(org_merge_changed, groupby='condition_celltype')"
   ]
  },
  {
   "cell_type": "code",
   "execution_count": 27,
   "id": "e5d8d794-c5e9-4238-a6ba-5cebd30cea99",
   "metadata": {},
   "outputs": [
    {
     "name": "stdout",
     "output_type": "stream",
     "text": [
      "computing velocities\n",
      "    finished (0:02:23) --> added \n",
      "    'velocity', velocity vectors for each individual cell (adata.layers)\n",
      "computing velocity graph (using 1/48 cores)\n",
      "    finished (0:02:13) --> added \n",
      "    'velocity_graph', sparse matrix with cosine correlations (adata.uns)\n"
     ]
    }
   ],
   "source": [
    "scv.tl.velocity(org_merge_changed, mode='dynamical', diff_kinetics=True)\n",
    "scv.tl.velocity_graph(org_merge_changed)"
   ]
  },
  {
   "cell_type": "code",
   "execution_count": 28,
   "id": "8f96c007-3f9d-459e-9040-68e9f7b90e21",
   "metadata": {},
   "outputs": [
    {
     "name": "stdout",
     "output_type": "stream",
     "text": [
      "computing velocity embedding\n",
      "    finished (0:00:15) --> added\n",
      "    'velocity_umap.css.sigPCs', embedded velocity vectors (adata.obsm)\n"
     ]
    },
    {
     "name": "stderr",
     "output_type": "stream",
     "text": [
      "/home/z5358666/.local/lib/python3.10/site-packages/scvelo/plotting/utils.py:68: DeprecationWarning: is_categorical_dtype is deprecated and will be removed in a future version. Use isinstance(dtype, pd.CategoricalDtype) instead\n",
      "  return isinstance(c, str) and c in data.obs.keys() and cat(data.obs[c])\n",
      "/home/z5358666/.local/lib/python3.10/site-packages/scvelo/plotting/utils.py:68: DeprecationWarning: is_categorical_dtype is deprecated and will be removed in a future version. Use isinstance(dtype, pd.CategoricalDtype) instead\n",
      "  return isinstance(c, str) and c in data.obs.keys() and cat(data.obs[c])\n",
      "/home/z5358666/.local/lib/python3.10/site-packages/scvelo/plotting/utils.py:65: DeprecationWarning: is_categorical_dtype is deprecated and will be removed in a future version. Use isinstance(dtype, pd.CategoricalDtype) instead\n",
      "  return cat(data)  # if data is categorical/array\n",
      "/home/z5358666/.local/lib/python3.10/site-packages/scvelo/plotting/utils.py:68: DeprecationWarning: is_categorical_dtype is deprecated and will be removed in a future version. Use isinstance(dtype, pd.CategoricalDtype) instead\n",
      "  return isinstance(c, str) and c in data.obs.keys() and cat(data.obs[c])\n",
      "/home/z5358666/.local/lib/python3.10/site-packages/scvelo/plotting/utils.py:68: DeprecationWarning: is_categorical_dtype is deprecated and will be removed in a future version. Use isinstance(dtype, pd.CategoricalDtype) instead\n",
      "  return isinstance(c, str) and c in data.obs.keys() and cat(data.obs[c])\n",
      "/home/z5358666/.local/lib/python3.10/site-packages/scvelo/plotting/utils.py:68: DeprecationWarning: is_categorical_dtype is deprecated and will be removed in a future version. Use isinstance(dtype, pd.CategoricalDtype) instead\n",
      "  return isinstance(c, str) and c in data.obs.keys() and cat(data.obs[c])\n",
      "/home/z5358666/.local/lib/python3.10/site-packages/scvelo/plotting/utils.py:68: DeprecationWarning: is_categorical_dtype is deprecated and will be removed in a future version. Use isinstance(dtype, pd.CategoricalDtype) instead\n",
      "  return isinstance(c, str) and c in data.obs.keys() and cat(data.obs[c])\n",
      "/home/z5358666/.local/lib/python3.10/site-packages/scvelo/plotting/utils.py:68: DeprecationWarning: is_categorical_dtype is deprecated and will be removed in a future version. Use isinstance(dtype, pd.CategoricalDtype) instead\n",
      "  return isinstance(c, str) and c in data.obs.keys() and cat(data.obs[c])\n",
      "/home/z5358666/.local/lib/python3.10/site-packages/scvelo/plotting/utils.py:68: DeprecationWarning: is_categorical_dtype is deprecated and will be removed in a future version. Use isinstance(dtype, pd.CategoricalDtype) instead\n",
      "  return isinstance(c, str) and c in data.obs.keys() and cat(data.obs[c])\n"
     ]
    }
   ],
   "source": [
    "pdf_path = \"/srv/scratch/voineagu/PROJECTS/GavinLi/Combined/Results/251008_D60_D100_merge/org_merge_changed_velocity_diff_kinetics_genotype_celltype_simplified_stream.pdf\"\n",
    "\n",
    "r_palette = {\n",
    "    \"Neuroepithelium\": \"#f44336\",\n",
    "    \"Dorsal Telencephalic IP\": \"#8bc34a\",\n",
    "    \"Dorsal Telencephalic Neuron\": \"#009688\",\n",
    "    \"Ventral Telencephalic NPC\": \"#1565c0\",\n",
    "    \"Ventral Telencephalic Neuron\": \"#ffc107\",\n",
    "    \"Non-telencephalic NPC\": \"#ff9800\",\n",
    "    \"Non-telencephalic Neuron\": \"#448aff\",\n",
    "    \"Others\": \"#ad1457\"\n",
    "}\n",
    "\n",
    "with PdfPages(pdf_path) as pdf:\n",
    "\n",
    "    scv.pl.velocity_embedding_grid(\n",
    "        org_merge_changed,\n",
    "        basis='umap.css.sigPCs',\n",
    "        color='HNOCA_annot_level_2_pruned_simplified',\n",
    "        palette=r_palette,\n",
    "        size=50,\n",
    "        scale=0.3,               \n",
    "        alpha=0.5,\n",
    "        legend_loc='lower left',\n",
    "        linewidth=1.2,\n",
    "        legend_fontsize=3,\n",
    "        show=False\n",
    "    )\n",
    "\n",
    "    \n",
    "    fig = plt.gcf()\n",
    "    fig.set_size_inches(13, 9)  \n",
    "    pdf.savefig(fig)           \n",
    "    plt.close()"
   ]
  },
  {
   "cell_type": "code",
   "execution_count": 24,
   "id": "f0dabe7d-101b-4cae-acb3-56e47315f15c",
   "metadata": {},
   "outputs": [
    {
     "name": "stderr",
     "output_type": "stream",
     "text": [
      "/home/z5358666/.local/lib/python3.10/site-packages/scvelo/plotting/utils.py:68: DeprecationWarning: is_categorical_dtype is deprecated and will be removed in a future version. Use isinstance(dtype, pd.CategoricalDtype) instead\n",
      "  return isinstance(c, str) and c in data.obs.keys() and cat(data.obs[c])\n",
      "/home/z5358666/.local/lib/python3.10/site-packages/scvelo/plotting/utils.py:68: DeprecationWarning: is_categorical_dtype is deprecated and will be removed in a future version. Use isinstance(dtype, pd.CategoricalDtype) instead\n",
      "  return isinstance(c, str) and c in data.obs.keys() and cat(data.obs[c])\n",
      "/home/z5358666/.local/lib/python3.10/site-packages/scvelo/plotting/utils.py:68: DeprecationWarning: is_categorical_dtype is deprecated and will be removed in a future version. Use isinstance(dtype, pd.CategoricalDtype) instead\n",
      "  return isinstance(c, str) and c in data.obs.keys() and cat(data.obs[c])\n",
      "/home/z5358666/.local/lib/python3.10/site-packages/scvelo/plotting/utils.py:68: DeprecationWarning: is_categorical_dtype is deprecated and will be removed in a future version. Use isinstance(dtype, pd.CategoricalDtype) instead\n",
      "  return isinstance(c, str) and c in data.obs.keys() and cat(data.obs[c])\n",
      "/home/z5358666/.local/lib/python3.10/site-packages/scvelo/plotting/utils.py:68: DeprecationWarning: is_categorical_dtype is deprecated and will be removed in a future version. Use isinstance(dtype, pd.CategoricalDtype) instead\n",
      "  return isinstance(c, str) and c in data.obs.keys() and cat(data.obs[c])\n",
      "/home/z5358666/.local/lib/python3.10/site-packages/scvelo/plotting/utils.py:68: DeprecationWarning: is_categorical_dtype is deprecated and will be removed in a future version. Use isinstance(dtype, pd.CategoricalDtype) instead\n",
      "  return isinstance(c, str) and c in data.obs.keys() and cat(data.obs[c])\n"
     ]
    }
   ],
   "source": [
    "pdf_path = \"/srv/scratch/voineagu/PROJECTS/GavinLi/Combined/Results/251008_D60_D100_merge/org_merge_changed_latent_time_velocity_confidence.pdf\"\n",
    "\n",
    "# scv.tl.latent_time(org_merge_changed)\n",
    "# scv.tl.velocity_confidence(org_merge_changed)\n",
    "\n",
    "with PdfPages(pdf_path) as pdf:\n",
    "    scv.pl.scatter(\n",
    "        org_merge_changed,  \n",
    "        color=\"latent_time\", \n",
    "        color_map='gnuplot', \n",
    "        basis=\"X_umap.css.sigPCs\",\n",
    "        size=80,\n",
    "        show=False\n",
    "    )\n",
    "    fig = plt.gcf()\n",
    "    fig.set_size_inches(10, 7)\n",
    "    pdf.savefig(fig)\n",
    "    plt.close()\n",
    "    \n",
    "    # scv.pl.scatter(\n",
    "    #     org_merge_changed, \n",
    "    #     color=\"velocity_length\", \n",
    "    #     color_map=\"gnuplot\", \n",
    "    #     basis=\"X_umap.css.sigPCs\",\n",
    "    #     size=80,\n",
    "    #     show=False\n",
    "    # )\n",
    "    # fig = plt.gcf()\n",
    "    # fig.set_size_inches(10, 7)\n",
    "    # pdf.savefig(fig)\n",
    "    # plt.close()\n",
    "\n",
    "    # scv.pl.scatter(\n",
    "    #     org_merge_changed, \n",
    "    #     color=\"velocity_confidence\", \n",
    "    #     color_map=\"gnuplot\", \n",
    "    #     basis=\"X_umap.css.sigPCs\",\n",
    "    #     size=80,\n",
    "    #     show=False\n",
    "    # )\n",
    "\n",
    "    # fig = plt.gcf()\n",
    "    # fig.set_size_inches(10, 7)  \n",
    "    # pdf.savefig(fig)           \n",
    "    # plt.close()"
   ]
  },
  {
   "cell_type": "code",
   "execution_count": 21,
   "id": "254cdec9-1fce-44c3-9b91-8a39f0f9e392",
   "metadata": {},
   "outputs": [
    {
     "name": "stderr",
     "output_type": "stream",
     "text": [
      "/home/z5358666/.local/lib/python3.10/site-packages/scvelo/plotting/utils.py:68: DeprecationWarning: is_categorical_dtype is deprecated and will be removed in a future version. Use isinstance(dtype, pd.CategoricalDtype) instead\n",
      "  return isinstance(c, str) and c in data.obs.keys() and cat(data.obs[c])\n",
      "/home/z5358666/.local/lib/python3.10/site-packages/scvelo/plotting/utils.py:68: DeprecationWarning: is_categorical_dtype is deprecated and will be removed in a future version. Use isinstance(dtype, pd.CategoricalDtype) instead\n",
      "  return isinstance(c, str) and c in data.obs.keys() and cat(data.obs[c])\n",
      "/home/z5358666/.local/lib/python3.10/site-packages/scvelo/plotting/utils.py:65: DeprecationWarning: is_categorical_dtype is deprecated and will be removed in a future version. Use isinstance(dtype, pd.CategoricalDtype) instead\n",
      "  return cat(data)  # if data is categorical/array\n",
      "/home/z5358666/.local/lib/python3.10/site-packages/scvelo/plotting/utils.py:68: DeprecationWarning: is_categorical_dtype is deprecated and will be removed in a future version. Use isinstance(dtype, pd.CategoricalDtype) instead\n",
      "  return isinstance(c, str) and c in data.obs.keys() and cat(data.obs[c])\n",
      "/home/z5358666/.local/lib/python3.10/site-packages/scvelo/plotting/utils.py:68: DeprecationWarning: is_categorical_dtype is deprecated and will be removed in a future version. Use isinstance(dtype, pd.CategoricalDtype) instead\n",
      "  return isinstance(c, str) and c in data.obs.keys() and cat(data.obs[c])\n",
      "/home/z5358666/.local/lib/python3.10/site-packages/scvelo/plotting/utils.py:68: DeprecationWarning: is_categorical_dtype is deprecated and will be removed in a future version. Use isinstance(dtype, pd.CategoricalDtype) instead\n",
      "  return isinstance(c, str) and c in data.obs.keys() and cat(data.obs[c])\n",
      "/home/z5358666/.local/lib/python3.10/site-packages/scvelo/plotting/utils.py:68: DeprecationWarning: is_categorical_dtype is deprecated and will be removed in a future version. Use isinstance(dtype, pd.CategoricalDtype) instead\n",
      "  return isinstance(c, str) and c in data.obs.keys() and cat(data.obs[c])\n",
      "/home/z5358666/.local/lib/python3.10/site-packages/scvelo/plotting/utils.py:68: DeprecationWarning: is_categorical_dtype is deprecated and will be removed in a future version. Use isinstance(dtype, pd.CategoricalDtype) instead\n",
      "  return isinstance(c, str) and c in data.obs.keys() and cat(data.obs[c])\n",
      "/home/z5358666/.local/lib/python3.10/site-packages/scvelo/plotting/utils.py:68: DeprecationWarning: is_categorical_dtype is deprecated and will be removed in a future version. Use isinstance(dtype, pd.CategoricalDtype) instead\n",
      "  return isinstance(c, str) and c in data.obs.keys() and cat(data.obs[c])\n",
      "/home/z5358666/.local/lib/python3.10/site-packages/scvelo/plotting/utils.py:68: DeprecationWarning: is_categorical_dtype is deprecated and will be removed in a future version. Use isinstance(dtype, pd.CategoricalDtype) instead\n",
      "  return isinstance(c, str) and c in data.obs.keys() and cat(data.obs[c])\n",
      "/home/z5358666/.local/lib/python3.10/site-packages/scvelo/plotting/utils.py:68: DeprecationWarning: is_categorical_dtype is deprecated and will be removed in a future version. Use isinstance(dtype, pd.CategoricalDtype) instead\n",
      "  return isinstance(c, str) and c in data.obs.keys() and cat(data.obs[c])\n",
      "/home/z5358666/.local/lib/python3.10/site-packages/scvelo/plotting/utils.py:68: DeprecationWarning: is_categorical_dtype is deprecated and will be removed in a future version. Use isinstance(dtype, pd.CategoricalDtype) instead\n",
      "  return isinstance(c, str) and c in data.obs.keys() and cat(data.obs[c])\n",
      "/home/z5358666/.local/lib/python3.10/site-packages/scvelo/plotting/utils.py:68: DeprecationWarning: is_categorical_dtype is deprecated and will be removed in a future version. Use isinstance(dtype, pd.CategoricalDtype) instead\n",
      "  return isinstance(c, str) and c in data.obs.keys() and cat(data.obs[c])\n",
      "/home/z5358666/.local/lib/python3.10/site-packages/scvelo/plotting/utils.py:68: DeprecationWarning: is_categorical_dtype is deprecated and will be removed in a future version. Use isinstance(dtype, pd.CategoricalDtype) instead\n",
      "  return isinstance(c, str) and c in data.obs.keys() and cat(data.obs[c])\n",
      "/home/z5358666/.local/lib/python3.10/site-packages/scvelo/plotting/utils.py:68: DeprecationWarning: is_categorical_dtype is deprecated and will be removed in a future version. Use isinstance(dtype, pd.CategoricalDtype) instead\n",
      "  return isinstance(c, str) and c in data.obs.keys() and cat(data.obs[c])\n",
      "/home/z5358666/.local/lib/python3.10/site-packages/scvelo/plotting/utils.py:68: DeprecationWarning: is_categorical_dtype is deprecated and will be removed in a future version. Use isinstance(dtype, pd.CategoricalDtype) instead\n",
      "  return isinstance(c, str) and c in data.obs.keys() and cat(data.obs[c])\n",
      "/home/z5358666/.local/lib/python3.10/site-packages/scvelo/plotting/utils.py:68: DeprecationWarning: is_categorical_dtype is deprecated and will be removed in a future version. Use isinstance(dtype, pd.CategoricalDtype) instead\n",
      "  return isinstance(c, str) and c in data.obs.keys() and cat(data.obs[c])\n",
      "/home/z5358666/.local/lib/python3.10/site-packages/scvelo/plotting/utils.py:65: DeprecationWarning: is_categorical_dtype is deprecated and will be removed in a future version. Use isinstance(dtype, pd.CategoricalDtype) instead\n",
      "  return cat(data)  # if data is categorical/array\n",
      "/home/z5358666/.local/lib/python3.10/site-packages/scvelo/plotting/utils.py:68: DeprecationWarning: is_categorical_dtype is deprecated and will be removed in a future version. Use isinstance(dtype, pd.CategoricalDtype) instead\n",
      "  return isinstance(c, str) and c in data.obs.keys() and cat(data.obs[c])\n",
      "/home/z5358666/.local/lib/python3.10/site-packages/scvelo/plotting/utils.py:68: DeprecationWarning: is_categorical_dtype is deprecated and will be removed in a future version. Use isinstance(dtype, pd.CategoricalDtype) instead\n",
      "  return isinstance(c, str) and c in data.obs.keys() and cat(data.obs[c])\n",
      "/home/z5358666/.local/lib/python3.10/site-packages/scvelo/plotting/utils.py:68: DeprecationWarning: is_categorical_dtype is deprecated and will be removed in a future version. Use isinstance(dtype, pd.CategoricalDtype) instead\n",
      "  return isinstance(c, str) and c in data.obs.keys() and cat(data.obs[c])\n",
      "/home/z5358666/.local/lib/python3.10/site-packages/scvelo/plotting/utils.py:68: DeprecationWarning: is_categorical_dtype is deprecated and will be removed in a future version. Use isinstance(dtype, pd.CategoricalDtype) instead\n",
      "  return isinstance(c, str) and c in data.obs.keys() and cat(data.obs[c])\n",
      "/home/z5358666/.local/lib/python3.10/site-packages/scvelo/plotting/utils.py:68: DeprecationWarning: is_categorical_dtype is deprecated and will be removed in a future version. Use isinstance(dtype, pd.CategoricalDtype) instead\n",
      "  return isinstance(c, str) and c in data.obs.keys() and cat(data.obs[c])\n",
      "/home/z5358666/.local/lib/python3.10/site-packages/scvelo/plotting/utils.py:68: DeprecationWarning: is_categorical_dtype is deprecated and will be removed in a future version. Use isinstance(dtype, pd.CategoricalDtype) instead\n",
      "  return isinstance(c, str) and c in data.obs.keys() and cat(data.obs[c])\n",
      "/home/z5358666/.local/lib/python3.10/site-packages/scvelo/plotting/utils.py:68: DeprecationWarning: is_categorical_dtype is deprecated and will be removed in a future version. Use isinstance(dtype, pd.CategoricalDtype) instead\n",
      "  return isinstance(c, str) and c in data.obs.keys() and cat(data.obs[c])\n",
      "/home/z5358666/.local/lib/python3.10/site-packages/scvelo/plotting/utils.py:68: DeprecationWarning: is_categorical_dtype is deprecated and will be removed in a future version. Use isinstance(dtype, pd.CategoricalDtype) instead\n",
      "  return isinstance(c, str) and c in data.obs.keys() and cat(data.obs[c])\n",
      "/home/z5358666/.local/lib/python3.10/site-packages/scvelo/plotting/utils.py:68: DeprecationWarning: is_categorical_dtype is deprecated and will be removed in a future version. Use isinstance(dtype, pd.CategoricalDtype) instead\n",
      "  return isinstance(c, str) and c in data.obs.keys() and cat(data.obs[c])\n",
      "/home/z5358666/.local/lib/python3.10/site-packages/scvelo/plotting/utils.py:68: DeprecationWarning: is_categorical_dtype is deprecated and will be removed in a future version. Use isinstance(dtype, pd.CategoricalDtype) instead\n",
      "  return isinstance(c, str) and c in data.obs.keys() and cat(data.obs[c])\n",
      "/home/z5358666/.local/lib/python3.10/site-packages/scvelo/plotting/utils.py:68: DeprecationWarning: is_categorical_dtype is deprecated and will be removed in a future version. Use isinstance(dtype, pd.CategoricalDtype) instead\n",
      "  return isinstance(c, str) and c in data.obs.keys() and cat(data.obs[c])\n",
      "/home/z5358666/.local/lib/python3.10/site-packages/scvelo/plotting/utils.py:68: DeprecationWarning: is_categorical_dtype is deprecated and will be removed in a future version. Use isinstance(dtype, pd.CategoricalDtype) instead\n",
      "  return isinstance(c, str) and c in data.obs.keys() and cat(data.obs[c])\n"
     ]
    }
   ],
   "source": [
    "import scvelo as scv\n",
    "import matplotlib.pyplot as plt\n",
    "from matplotlib.backends.backend_pdf import PdfPages\n",
    "\n",
    "# Custom palette\n",
    "r_palette = {\n",
    "    \"Neuroepithelium\": \"#f44336\",\n",
    "    \"Dorsal Telencephalic IP\": \"#8bc34a\",\n",
    "    \"Dorsal Telencephalic Neuron\": \"#009688\",\n",
    "    \"Ventral Telencephalic NPC\": \"#1565c0\",\n",
    "    \"Ventral Telencephalic Neuron\": \"#ffc107\",\n",
    "    \"Non-telencephalic NPC\": \"#ff9800\",\n",
    "    \"Non-telencephalic Neuron\": \"#448aff\",\n",
    "    \"Others\": \"#ad1457\"\n",
    "}\n",
    "\n",
    "# Genotypes\n",
    "genotypes = ['WT', 'KO']\n",
    "\n",
    "for genotype in genotypes:\n",
    "    # Subset AnnData for the genotype\n",
    "    adata_subset = org_merge_changed[org_merge_changed.obs['Genotype'] == genotype].copy()\n",
    "    \n",
    "    # PDF path\n",
    "    pdf_path = f\"/srv/scratch/voineagu/PROJECTS/GavinLi/Combined/Results/251008_D60_D100_merge/org_merge_changed_{genotype}.pdf\"\n",
    "    \n",
    "    with PdfPages(pdf_path) as pdf:\n",
    "        # -----------------------------\n",
    "        # 1️⃣ RNA velocity embedding grid\n",
    "        # -----------------------------\n",
    "        scv.pl.velocity_embedding_grid(\n",
    "            adata_subset,\n",
    "            basis='umap.css.sigPCs',\n",
    "            color='HNOCA_annot_level_2_pruned_simplified',\n",
    "            palette=r_palette,\n",
    "            size=50,\n",
    "            scale=0.3,\n",
    "            alpha=0.5,\n",
    "            legend_loc='lower left',\n",
    "            linewidth=1.2,\n",
    "            legend_fontsize=1,\n",
    "            show=False\n",
    "        )\n",
    "        fig = plt.gcf()\n",
    "        fig.set_size_inches(13, 9)\n",
    "        pdf.savefig(fig)\n",
    "        plt.close()\n",
    "        \n",
    "        # -----------------------------\n",
    "        # 2️⃣ Latent time scatter plot\n",
    "        # -----------------------------\n",
    "        scv.pl.scatter(\n",
    "            adata_subset,  \n",
    "            color=\"latent_time\", \n",
    "            color_map='gnuplot', \n",
    "            basis=\"X_umap.css.sigPCs\",\n",
    "            size=80,\n",
    "            show=False\n",
    "        )\n",
    "        fig = plt.gcf()\n",
    "        fig.set_size_inches(10, 7)\n",
    "        pdf.savefig(fig)\n",
    "        plt.close()\n"
   ]
  },
  {
   "cell_type": "code",
   "execution_count": 14,
   "id": "2fc0d4f3-50bf-409d-a923-df81838ae0ac",
   "metadata": {},
   "outputs": [],
   "source": [
    "# org_merge_D100_WT.write(\"/srv/scratch/voineagu/PROJECTS/GavinLi/Combined/Results/251008_D60_D100_merge/org_merge_D100_WT.h5ad\")\n",
    "org_merge_by_D60.write(\"/srv/scratch/voineagu/PROJECTS/GavinLi/Combined/Results/251008_D60_D100_merge/org_merge_by_D60.h5ad\")\n",
    "# org_merge_changed_D100.write(\"/srv/scratch/voineagu/PROJECTS/GavinLi/Combined/Results/251008_D60_D100_merge/org_merge_day100.h5ad\")"
   ]
  }
 ],
 "metadata": {
  "kernelspec": {
   "display_name": "Python 3.10.8 (ipykernel)",
   "language": "python",
   "name": "python-3.10.8"
  },
  "language_info": {
   "codemirror_mode": {
    "name": "ipython",
    "version": 3
   },
   "file_extension": ".py",
   "mimetype": "text/x-python",
   "name": "python",
   "nbconvert_exporter": "python",
   "pygments_lexer": "ipython3",
   "version": "3.10.8"
  }
 },
 "nbformat": 4,
 "nbformat_minor": 5
}
